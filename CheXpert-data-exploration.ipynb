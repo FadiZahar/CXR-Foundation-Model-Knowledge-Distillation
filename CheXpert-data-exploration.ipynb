{
 "cells": [
  {
   "cell_type": "code",
   "execution_count": 1,
   "metadata": {},
   "outputs": [
    {
     "name": "stderr",
     "output_type": "stream",
     "text": [
      "Matplotlib is building the font cache; this may take a moment.\n"
     ]
    }
   ],
   "source": [
    "import os\n",
    "import pandas as pd\n",
    "import numpy as np\n",
    "import matplotlib.pyplot as plt\n",
    "import seaborn as sns\n",
    "from tqdm import tqdm"
   ]
  },
  {
   "cell_type": "markdown",
   "metadata": {},
   "source": [
    "# Population Study"
   ]
  },
  {
   "cell_type": "markdown",
   "metadata": {},
   "source": [
    "### Demography"
   ]
  },
  {
   "cell_type": "code",
   "execution_count": 6,
   "metadata": {},
   "outputs": [
    {
     "name": "stdout",
     "output_type": "stream",
     "text": [
      "Patient IDs are between 1 and 65740\n",
      "Number of missing IDs: 339\n",
      "Missing IDs: [224, 650, 653, 1374, 1484, 1628, 1682, 2025, 2033, 2346, 2512, 3867, 4272, 4452, 4684, 4773, 4774, 4892, 5202, 5217, 5218, 5514, 5845, 6589, 6828, 7076, 7812, 8166, 8582, 8938, 9457, 9491, 9605, 9739, 9974, 10389, 10712, 10806, 10963, 10964, 11438, 11562, 11633, 11764, 11963, 12417, 12674, 12884, 13495, 13596, 13644, 13753, 14362, 14530, 14789, 14802, 15088, 15305, 15512, 15639, 15716, 16065, 16230, 16516, 16832, 17024, 17087, 17093, 17247, 17252, 17271, 17418, 17419, 17691, 17919, 17931, 18624, 18667, 18811, 19182, 19355, 19952, 20264, 20486, 22138, 22228, 22718, 22836, 22845, 22918, 22963, 23372, 23867, 23871, 24113, 24275, 24824, 24947, 25279, 25389, 25870, 26045, 26670, 26711, 26879, 27575, 27720, 27957, 28298, 28537, 28724, 28848, 29227, 29272, 30063, 30231, 30744, 31083, 31599, 31910, 32130, 32667, 32933, 33163, 33294, 33491, 33534, 33818, 34601, 34859, 34960, 35207, 35268, 35310, 35324, 35366, 35418, 35542, 35605, 35696, 35765, 35875, 35890, 35909, 35932, 36669, 36695, 36706, 36858, 36965, 37172, 37511, 37634, 37694, 37883, 38302, 38395, 38796, 38991, 39030, 39735, 40112, 40407, 40466, 40563, 40608, 40628, 40707, 41058, 41099, 41705, 41792, 41866, 41893, 42000, 42046, 42561, 42892, 42956, 43082, 43316, 43337, 43351, 43638, 43694, 44178, 44252, 44258, 44338, 44473, 44637, 44933, 44935, 44995, 45121, 45257, 45278, 45312, 45420, 45443, 45682, 45741, 46314, 46397, 46409, 46586, 47204, 47418, 47510, 47674, 47939, 48156, 48236, 48314, 49227, 49260, 49487, 49665, 49699, 49703, 49823, 49859, 49970, 50219, 50221, 50433, 50548, 50592, 50666, 50766, 51135, 51398, 51817, 51870, 52014, 52029, 52042, 52142, 52305, 52400, 52446, 52578, 53077, 53095, 53162, 53451, 53455, 53798, 53816, 54139, 54284, 54502, 54742, 54783, 54870, 54875, 55213, 55382, 55446, 55720, 55977, 56085, 56172, 56225, 56579, 56709, 56881, 57003, 57135, 57272, 57298, 57339, 57512, 57845, 57942, 57948, 58241, 58337, 58600, 58924, 58986, 59120, 59132, 59581, 59847, 60207, 60298, 60344, 60377, 60762, 61221, 61432, 61902, 61990, 62145, 62174, 62323, 62644, 63188, 63375, 63390, 63645, 63808, 63850, 63931, 63991, 64077, 64538, 64539, 64540, 64629, 64737, 65062, 65186, 65394, 65439, 65659, 65674, 65696, 65697, 65699, 65701, 65703, 65712, 65715, 65717, 65718, 65721, 65722, 65723, 65725, 65726, 65728, 65730, 65733, 65734, 65736, 65737, 65738]\n"
     ]
    }
   ],
   "source": [
    "# Load the Excel file\n",
    "file_path = '../external/CHEXPERT DEMO.xlsx'\n",
    "df = pd.read_excel(file_path, engine='openpyxl')\n",
    "\n",
    "# The column is named 'PATIENT' and IDs are in the format 'patientxxxxx'\n",
    "# Extract the numeric part of the patient ID and convert to integer\n",
    "df['patient_id'] = df['PATIENT'].str.extract('(\\d+)').astype(int)\n",
    "\n",
    "# # Create a full range of patient IDs from 1 to 65740\n",
    "# full_range = set(range(1, 65741))\n",
    "# Calculate the minimum and maximum patient IDs found in the column and compute the full range dynamically\n",
    "max_id = df['patient_id'].max()\n",
    "min_id = df['patient_id'].min()\n",
    "full_range = set(range(min_id, max_id + 1))\n",
    "\n",
    "# Convert the patient IDs in the DataFrame to a set\n",
    "actual_ids = set(df['patient_id'])\n",
    "\n",
    "# Find the missing IDs by subtracting the actual IDs from the full range\n",
    "missing_ids = full_range - actual_ids\n",
    "\n",
    "# Output the number of missing IDs\n",
    "print(f'Patient IDs are between {min_id} and {max_id}')\n",
    "print(\"Number of missing IDs:\", len(missing_ids))\n",
    "print(\"Missing IDs:\", sorted(missing_ids)) "
   ]
  },
  {
   "cell_type": "markdown",
   "metadata": {},
   "source": []
  }
 ],
 "metadata": {
  "kernelspec": {
   "display_name": "mli-tutorials",
   "language": "python",
   "name": "python3"
  },
  "language_info": {
   "codemirror_mode": {
    "name": "ipython",
    "version": 3
   },
   "file_extension": ".py",
   "mimetype": "text/x-python",
   "name": "python",
   "nbconvert_exporter": "python",
   "pygments_lexer": "ipython3",
   "version": "3.11.4"
  }
 },
 "nbformat": 4,
 "nbformat_minor": 2
}
