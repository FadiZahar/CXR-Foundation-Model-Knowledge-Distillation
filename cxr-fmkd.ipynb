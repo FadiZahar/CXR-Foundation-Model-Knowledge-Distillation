{
 "cells": [
  {
   "cell_type": "markdown",
   "metadata": {},
   "source": [
    "# CXR - FMKD"
   ]
  },
  {
   "cell_type": "markdown",
   "metadata": {},
   "source": [
    "### Foundation Model Knowledge Distillation (FMKD) for Chest X-Rays (CXR)\n",
    "\n",
    "The aim is to develop a robust, distilled reconstruction of foundation models (FMs) that maintains performance on par with the original models and provides a practical means to explore and potentially mitigate inherent bias issues.\n",
    "\n",
    "The focus of this work is on Google’s proprietary CXR Foundation Model (CXR-FM), which was trained on 821,544 labelled and mostly private chest X-rays (CXRs). In this context, the task of disease detection using CXRs from the publicly available CheXpert dataset will first be explored first.\n",
    "\n",
    "***First Goal:*** Leverage the embeddings from CXR-FM, the teacher model, to train a student model using Knowledge Distillation (KD). This process utilises a subset of the CheXpert dataset as a transfer set to align the features of the student model with those of the teacher model.\n"
   ]
  },
  {
   "cell_type": "markdown",
   "metadata": {},
   "source": []
  }
 ],
 "metadata": {
  "kernelspec": {
   "display_name": "mli-tutorials",
   "language": "python",
   "name": "python3"
  },
  "language_info": {
   "codemirror_mode": {
    "name": "ipython",
    "version": 3
   },
   "file_extension": ".py",
   "mimetype": "text/x-python",
   "name": "python",
   "nbconvert_exporter": "python",
   "pygments_lexer": "ipython3",
   "version": "3.11.4"
  }
 },
 "nbformat": 4,
 "nbformat_minor": 2
}
